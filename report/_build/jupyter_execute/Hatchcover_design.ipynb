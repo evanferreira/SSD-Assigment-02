{
 "cells": [
  {
   "cell_type": "markdown",
   "id": "a192fd90-07d7-46f8-b0b4-7a6fb8598dba",
   "metadata": {
    "tags": []
   },
   "source": [
    "# Input data\n",
    "Input data is defined below used to run the calculations:\n",
    "\n",
    "| Symbol         | Value  | Description                                      |\n",
    "| --------------:| ------:|-------------------------------------------------:|\n",
    "| L              | 18500  |Length of the hatch cover [mm]                    |\n",
    "| B              | 18200  |Breath of hatch cover [mm]                        |\n",
    "| W<sub>max</sub>| 200    |Maximum weight of the hatch cover [kg/m²]         |\n",
    "| t<sub>c</sub>  | 2.0    |Corrosion adition for plating and stiffeners [mm] |\n",
    "| p<sub>w</sub>  | 34.3   |Wave pressure on deck [kN/mm²]                    |\n",
    "| S              | 1.1    |Buckling safety factor for hatch covers           |\n",
    "| E              | 206000 |Steel Young's Modulus [N/mm²]                     |"
   ]
  },
  {
   "cell_type": "code",
   "execution_count": 1,
   "id": "ccd67226-cae3-48bd-9d4e-fb3bd258269c",
   "metadata": {
    "tags": [
     "hide-input"
    ]
   },
   "outputs": [],
   "source": [
    "import numpy as np\n",
    "#Input data from project description and inital definition of the rules\n",
    "L     = 18500       #Length of hatch cover [mm]\n",
    "B     = 18200       #Breath of hatch cover [mm]\n",
    "W_max = 200*L*B/1e6 #Maximum weight of the hatch cover [kg]\n",
    "tc    = 2.0         #Corrosion adition for plating and stiffeners [mm]\n",
    "pw    = 34.3        #Wave pressure on deck [kN/mm²]\n",
    "S     = 1.1         #Buckling safety factor for hatch covers\n",
    "\n",
    "#Materials yield and allowable stresses\n",
    "E         = 206e3         #Steel Young's Modulus [N/mm²]\n",
    "ReH_A     = 235           #Yield stress for mild steel [N/mm²]\n",
    "ReH_AH32  = 315           #Yield stress for AH32 steel [N/mm²]\n",
    "ReH_AH36  = 355           #Yield stress for AH36 steel [N/mm²]\n",
    "sig_a_A   = 0.80*ReH_A    #Allowable normal stress for mild steel [N/mm²]\n",
    "tal_a_A   = 0.46*ReH_A    #Allowable shear stress for mild steel [N/mm²]\n",
    "sig_a_32  = 0.80*ReH_AH32 #Allowable normal stress for AH32 steel [N/mm²]\n",
    "tal_a_32  = 0.46*ReH_AH32 #Allowable shear stress for AH32 steel [N/mm²]\n",
    "sig_a_36  = 0.80*ReH_AH36 #Allowable normal stress for AH36 steel [N/mm²]\n",
    "tal_a_36  = 0.46*ReH_AH36 #Allowable shear stress for AH36 steel [N/mm²]\n",
    "\n",
    "#Materials factor\n",
    "k_A    = 1.0  #Material factor for mild steel\n",
    "k_AH32 = 0.78 #Material factor for AH32 steel\n",
    "k_AH36 = 0.72 #Material factor for AH36 steel"
   ]
  },
  {
   "cell_type": "markdown",
   "id": "09dce569-8405-49dc-94e3-6751c57e511a",
   "metadata": {},
   "source": [
    "# Geometry definition"
   ]
  },
  {
   "cell_type": "markdown",
   "id": "6c877d01-5c2b-4d33-9ead-c3ab5b8e9246",
   "metadata": {},
   "source": [
    "<div style=\"text-align: justify\"> The cells below calculates the requirements for top plating, stiffeners and primary supporting members (PSM) according to the IACS rules. \n",
    "After checking the minimum scantlings and properties to be used, these structures are defined and used as input for FEM modeling and analysis. On the next section the values will be resumed and presented.\n",
    "\n",
    "The cell below calculates the plating requirements and defines its properties. </div>"
   ]
  },
  {
   "cell_type": "code",
   "execution_count": 2,
   "id": "506d430f-adc9-4463-9a08-dc47b4a8f941",
   "metadata": {
    "tags": [
     "hide-input"
    ]
   },
   "outputs": [],
   "source": [
    "#Plating requirements - Considering mild steel\n",
    "#Net thickness\n",
    "Mat_pl = \"A\" #Defining material properties\n",
    "if Mat_pl == \"A\":\n",
    "    ReH_pl   = ReH_A            \n",
    "    sig_a_pl = sig_a_A \n",
    "    tal_a_pl = tal_a_A\n",
    "    k_pl     = k_A\n",
    "elif Mat_pl == \"AH32\":\n",
    "    ReH_pl   = ReH_AH32            \n",
    "    sig_a_pl = sig_a_32\n",
    "    tal_a_pl = tal_a_32\n",
    "    k_pl     = k_AH32\n",
    "elif Mat_pl == \"AH36\":\n",
    "    ReH_pl   = ReH_AH36            \n",
    "    sig_a_pl = sig_a_36\n",
    "    tal_a_pl = tal_a_36\n",
    "    k_pl     = k_AH36\n",
    "S_max  = L/3                                    #Spacing of PSM [mm]\n",
    "Fp     = 1.5                                    #Factor for membrane and bending response\n",
    "s      = 650e-3                                 #Spacing between stiffeners [m]\n",
    "FW     = 1.0                                    #Rule coefficient \n",
    "tp_min = 15.8*Fp*s*np.sqrt(FW*pw/(0.95*ReH_pl)) #Net thickness of hatch cover top plating [mm]\n",
    "if tp_min < 10*s or tp_min < 6:\n",
    "    tp_min = max(10*s,6)\n",
    "\n",
    "#Plating Net thickness \n",
    "tp = tp_min+2.5 #Defining the plating net thickness for FEMAP"
   ]
  },
  {
   "cell_type": "markdown",
   "id": "ee5f865a-52c4-45e5-accc-ca8b060f1701",
   "metadata": {},
   "source": [
    "<div style=\"text-align: justify\"> In this step, the ordinary stiffeners requirements are calculated and their final characteristics are set.</div>"
   ]
  },
  {
   "cell_type": "code",
   "execution_count": 3,
   "id": "4bd9d6ef-28c3-4f76-8671-96dbb0a3e5c9",
   "metadata": {
    "tags": [
     "hide-input"
    ]
   },
   "outputs": [],
   "source": [
    "#Ordinary stiffeners requirements\n",
    "#Ratio hw/tw\n",
    "Mat_stf = \"AH32\" #Defining material properties\n",
    "if Mat_stf == \"A\":\n",
    "    ReH_stf   = ReH_A            \n",
    "    sig_a_stf = sig_a_A \n",
    "    tal_a_stf = tal_a_A\n",
    "    k_stf     = k_A\n",
    "elif Mat_stf == \"AH32\":\n",
    "    ReH_stf   = ReH_AH32            \n",
    "    sig_a_stf = sig_a_32\n",
    "    tal_a_stf = tal_a_32\n",
    "    k_stf     = k_AH32\n",
    "elif Mat_stf == \"AH36\":\n",
    "    ReH_stf   = ReH_AH36            \n",
    "    sig_a_stf = sig_a_36\n",
    "    tal_a_stf = tal_a_36\n",
    "    k_stf     = k_AH36\n",
    "        \n",
    "rat_hw_tw  = 15*np.sqrt(235/ReH_stf) #Max. ratio hw/tw for flat bar stiffeners\n",
    "tw_stf_min = 4                       #Min. web net thickness for stiffeners [mm]\n",
    "\n",
    "c   = 1.3     #Rule coefficient when plating is stiffened by PSM\n",
    "ls  = 4625e-3 #Length of the longer side of the plate panel [m]\n",
    "psi = 1       #Ratio between smallest and largest compressive stress \n",
    "ss  = 4550e-3 #Spacing between PSM [m]\n",
    "m   = c*((1+(ss/ls)**2)**2)*(2.1/(psi+1.1)) #Rule coefficient\n",
    "\n",
    "#Net section modulus and shear area minimum requirements\n",
    "w   = (FW*pw*s*ls**2)*1e3/(m*sig_a_stf) #net section modulus of stiffeners [mm³]\n",
    "Ash = 5*FW*pw*s*ls/tal_a_stf            #net shear area of stiffeners [cm²]\n",
    "\n",
    "#-------------------------------------------------------------------------------------------------------\n",
    "\n",
    "#Ordinary stiffeners definition - Angle bar \n",
    "hw_stf = 250           #Web height of ordinary stiffener [mm]\n",
    "bf_stf = 83            #Face plate/flange width of ordinary stiffener [mm]\n",
    "tw_stf = 7             #Net web thickness of ordinary stiffener [mm]\n",
    "tf_stf = 11            #Net face plate/flange thickness of ordinary stiffener [mm]\n",
    "ratio  = hw_stf/tw_stf #Ratio hw/tw for the stiffener\n",
    "\n",
    "Iw     = ((bf_stf**3) * (hw_stf**2) * \n",
    "          (tf_stf * (bf_stf**2 + 2*bf_stf*hw_stf + 4*hw_stf**2) + 3*tw_stf*bf_stf*hw_stf)* \n",
    "          1e-6/(12 * (bf_stf + hw_stf)**2))  #Sectorial moment of inertia [cm^6]\n",
    "\n",
    "Ip     = ((hw_stf**3)*(tw_stf)/3 + \n",
    "          hw_stf**2 * bf_stf*tf_stf)*1e-4 #Polar moment of inertia [cm^4]\n",
    "\n",
    "It     = ((1/3)*(hw_stf*tw_stf**3 + \n",
    "                 bf_stf*tf_stf**3 * \n",
    "                 (1-0.63*tf_stf/bf_stf)) * 1e-4) #St Venant's moment of inertia [cm^4]\n",
    "\n",
    "A      =  (hw_stf*tw_stf + \n",
    "           bf_stf*tf_stf + \n",
    "           tp*(s*1e3))*1e-2 #Cross-sectional area of the stiffener, including face plate [cm²]\n",
    "l      = ls                 #Stiffener span [m]\n",
    "\n",
    "stf_na = ((hw_stf*tw_stf)*(hw_stf/2+tp) + \n",
    "          (bf_stf*tf_stf)*(tf_stf/2+hw_stf+tp) +\n",
    "         (tp*s*1e3)*(tp/2))/(A*1e2) #Stiffener neutral axis [mm]\n",
    "\n",
    "Ia     = ((s*1e3)*tp**3/12 + tw_stf*hw_stf**3/12 + bf_stf*tf_stf**3/12 + \n",
    "          (hw_stf*tw_stf)*(tp + hw_stf/2 - stf_na)**2 + \n",
    "          (bf_stf*tf_stf)*(tp + hw_stf + tf_stf/2 - stf_na)**2 +\n",
    "          ((s*1e3)*tp)*(tp/2 - stf_na)**2\n",
    "         )*1e-4 #Moment of inertia of the stiffener, including face plate [cm^4]\n",
    "wa     = Ia/(stf_na*1e-1) #Stiffener section modulus [cm³]\n",
    "\n",
    "#--------------------------------------------------------------\n",
    "#Stiffener geometric characteristics without the face plate \n",
    "A_w      =  (hw_stf*tw_stf + \n",
    "             bf_stf*tf_stf)*1e-2 #Cross-sectional area of the stiffener [cm²]\n",
    "\n",
    "stf_na_w = ((hw_stf*tw_stf)*(hw_stf/2) + \n",
    "            (bf_stf*tf_stf)*(tf_stf/2+hw_stf))/(A_w*1e2) #Stiffener neutral axis [mm]\n",
    "\n",
    "Ia_w     = (tw_stf*hw_stf**3/12 + bf_stf*tf_stf**3/12 + \n",
    "            (hw_stf*tw_stf)*(hw_stf/2 - stf_na_w)**2 + \n",
    "            (bf_stf*tf_stf)*(hw_stf + tf_stf/2 - stf_na_w)**2)*1e-4 #Moment of inertia of the stiffener [cm^4]\n",
    "wa_w     = Ia_w/(stf_na_w*1e-1) #Stiffener section modulus [cm³]"
   ]
  },
  {
   "cell_type": "markdown",
   "id": "92580dda-b418-4cb8-9b40-f1078f61d7b1",
   "metadata": {},
   "source": [
    "Below it is possible to check the requirements for the PSM. "
   ]
  },
  {
   "cell_type": "code",
   "execution_count": 4,
   "id": "d0c70647-3161-4113-939b-1a4334b3b0fc",
   "metadata": {
    "tags": [
     "hide-input"
    ]
   },
   "outputs": [],
   "source": [
    "#Primary Supporting Members (PSM) requirements\n",
    "Mat_psm = \"AH32\" #Defining material properties\n",
    "if Mat_psm == \"A\":\n",
    "    ReH_psm   = ReH_A            \n",
    "    sig_a_psm = sig_a_A \n",
    "    tal_a_psm = tal_a_A\n",
    "    k_psm     = k_A\n",
    "elif Mat_psm == \"AH32\":\n",
    "    ReH_psm   = ReH_AH32            \n",
    "    sig_a_psm = sig_a_32\n",
    "    tal_a_psm = tal_a_32\n",
    "    k_psm     = k_AH32\n",
    "elif Mat_psm == \"AH36\":\n",
    "    ReH_psm   = ReH_AH36            \n",
    "    sig_a_psm = sig_a_36\n",
    "    tal_a_psm = tal_a_36\n",
    "    k_psm     = k_AH36\n",
    "tw_psm_min = 6 #Minimum web net thickness [mm]\n",
    "tw_psm     = 6 #Defined web net thickness [mm]\n",
    "\n",
    "#------------------------------------------------------------------------------------------------------\n",
    "\n",
    "#PSM definition - T bar \n",
    "hw        = 1000      #PSM(Primary Supporting Member) depth [mm]\n",
    "bf_min    = hw*0.4    #(Minimum)Breadth of PSM face plate [mm]\n",
    "tw_min    = bf_min/30 #(Minimum)Thickness of PSM face plate [mm]\n",
    "bf        = 400       #Defined breadth of PSM face plate [mm]\n",
    "tw        = 15        #Defined net thickness of PSM face plate [mm]"
   ]
  },
  {
   "cell_type": "markdown",
   "id": "df146ff9-6236-4a93-a81a-4c109f1a0462",
   "metadata": {},
   "source": [
    "<div style=\"text-align: justify\"> Now, since all the geometry and materials were defined, the cell below calculates the total gross mass (including corrosion addition) of the hatch cover structure.</div>"
   ]
  },
  {
   "cell_type": "code",
   "execution_count": 5,
   "id": "e13cbccb-7c61-4868-b729-802294350f12",
   "metadata": {
    "tags": [
     "hide-input"
    ]
   },
   "outputs": [],
   "source": [
    "#Total mass of the hatch cover\n",
    "n_PSM = B/(ss*1e3)+1                                    #Number of PSM\n",
    "n_s   = B/(s*1e3)-n_PSM-1                               #Number of ordinary stiffeners\n",
    "n_trs = L/(ls*1e3)+1                                    #Number of transversal supports\n",
    "m_PSM = (((tc+tw)*bf+(tw_psm+tc)*hw)*L*1e-9)*7.85*n_PSM #Mass of PSMs [t]\n",
    "m_trs = (((tc+tw_psm)*hw+(tw+tc)*bf)*B*1e-9)*7.85*n_trs #Mass of transversal supports\n",
    "m_pl  = ((tp+tc)*B*L*1e-9)*7.85                         #Mass of top plating [t]\n",
    "m_stf = (((tw_stf+tc)*hw_stf+\n",
    "          (tf_stf+tc)*bf_stf)*L*1e-9)*7.85*n_s          #Mass of ordinary stiffeners [t]\n",
    "\n",
    "M_t   = m_stf+m_pl+m_PSM+m_trs                          #Total mass of the hatch cover [t]"
   ]
  },
  {
   "cell_type": "markdown",
   "id": "3a229703-d29a-408a-80e6-9b320bfbe414",
   "metadata": {},
   "source": [
    "# Topology of the hatch cover\n",
    "This section summarizes the data used and calculated. The cell below shows the hatch cover topology for the design."
   ]
  },
  {
   "cell_type": "code",
   "execution_count": 6,
   "id": "5f4790b7-0414-42a5-be4d-b89eaf8cb0c5",
   "metadata": {
    "tags": [
     "hide-input"
    ]
   },
   "outputs": [
    {
     "name": "stdout",
     "output_type": "stream",
     "text": [
      "Maximum spacing between PSM:                  6166.67 mm\n",
      "Defined spacing between PSM:                  4550.00 mm\n",
      "Defined height of PSM:                        1000.00 mm\n",
      "Defined spacing between stiffeners:           650.00 mm\n",
      "Number of PSM:                                5\n",
      "Number of ordinary stiffeners:                22\n",
      "Number of transversal supporting members:     5\n"
     ]
    }
   ],
   "source": [
    "#Summary of inputs\n",
    "print(f\"Maximum spacing between PSM:                  {S_max:.2f} mm\")\n",
    "print(f\"Defined spacing between PSM:                  {B/4:.2f} mm\")\n",
    "print(f\"Defined height of PSM:                        {hw:.2f} mm\")\n",
    "print(f\"Defined spacing between stiffeners:           {s*1000:.2f} mm\")\n",
    "print(f\"Number of PSM:                                {n_PSM:.0f}\")\n",
    "print(f\"Number of ordinary stiffeners:                {n_s:.0f}\")\n",
    "print(f\"Number of transversal supporting members:     {n_trs:.0f}\")"
   ]
  },
  {
   "cell_type": "markdown",
   "id": "a8625668-1c1b-4721-8e1a-6dc5d1402094",
   "metadata": {},
   "source": [
    "# Minimum requirements - IACS rules\n",
    "<div style=\"text-align: justify\"> This section shows the minimum requirements calculated by the code using the IACS rules.</div> "
   ]
  },
  {
   "cell_type": "code",
   "execution_count": 7,
   "id": "a90c17aa-0888-4fb4-bddd-cf4249be954f",
   "metadata": {
    "tags": [
     "hide-input"
    ]
   },
   "outputs": [
    {
     "name": "stdout",
     "output_type": "stream",
     "text": [
      "Min. net thickness of hatch cover top plating: 6.50 mm\n",
      "Max. ratio hw/tw for flat bar stiffeners:      12.96\n",
      "Min. net section modulus of stiffeners:        375.93 mm³\n",
      "Min. net shear area of stiffeners:             3.56 cm²\n",
      "Min. breadth of PSM face plate:                400.00 mm\n",
      "Min. net thickness of PSM face plate:          13.33 mm\n",
      "Min. net thickness of PSM web:                 6.00 mm\n"
     ]
    }
   ],
   "source": [
    "#Summary of rule calculations\n",
    "print(f\"Min. net thickness of hatch cover top plating: {tp_min:.2f} mm\")\n",
    "print(f\"Max. ratio hw/tw for flat bar stiffeners:      {rat_hw_tw:.2f}\")\n",
    "print(f\"Min. net section modulus of stiffeners:        {w:.2f} mm³\")\n",
    "print(f\"Min. net shear area of stiffeners:             {Ash:.2f} cm²\")\n",
    "print(f\"Min. breadth of PSM face plate:                {bf_min:.2f} mm\")\n",
    "print(f\"Min. net thickness of PSM face plate:          {tw_min:.2f} mm\")\n",
    "print(f\"Min. net thickness of PSM web:                 {tw_psm_min:.2f} mm\")"
   ]
  },
  {
   "cell_type": "markdown",
   "id": "877f2f59-353d-4160-b0cc-60f597e6f344",
   "metadata": {},
   "source": [
    "# Structure characteristics \n",
    "<div style=\"text-align: justify\"> After calculating the minimum requirements, setting the geometry and material of the structures, below it is shown the resume of the characteristics for top plating, stiffeners and PSM as well as their material properties definition.</div>"
   ]
  },
  {
   "cell_type": "code",
   "execution_count": 8,
   "id": "2e43c722-4612-4843-a504-faba791a0c2e",
   "metadata": {
    "tags": [
     "hide-input"
    ]
   },
   "outputs": [
    {
     "name": "stdout",
     "output_type": "stream",
     "text": [
      "-------------------------------------------Top plating------------------------------------------------------\n",
      "Material of the top plating:                  Steel grade A with yield stress 235 MPa\n",
      "Defined net thickness of top plating:         9.00 mm\n",
      "-------------------------------------------Stiffeners-------------------------------------------------------\n",
      "Material of the stiffeners:                   Steel grade AH32 with yield stress 315 MPa\n",
      "Web height of stiffener:                      250.00 mm\n",
      "Face plate/flange width of stiffener:         83.00 mm\n",
      "Net web thickness of stiffener:               7.00 mm\n",
      "Net face plate/flange thickness of stiffener: 11.00 mm\n",
      "Sectorial moment of inertia:                  99852.13 mm⁶\n",
      "Polar moment of inertia:                      9352.08 mm⁴\n",
      "St Venant's moment of inertia:                6.23 mm⁴\n",
      "Area of the stiffener (including plate):      85.13 cm²\n",
      "Moment of inertia of the stiffener:           7493.92 cm⁴\n",
      "Section Modulus of the stiffener:             1270.04 cm³\n",
      "---------------------------------------------PSM properties-------------------------------------------------\n",
      "Material of the PSM:                          Steel grade AH32 with yield stress 315 MPa\n",
      "Defined breadth of PSM face plate:            400.00 mm\n",
      "Defined net thickness of PSM face plate:      15.00 mm\n",
      "Defined net thickness of PSM web:             6.00 mm\n",
      "----------------------------------------Hatch cover mass-----------------------------------------------------\n",
      "Total gross mass of the hatch cover:          61.03 t\n"
     ]
    }
   ],
   "source": [
    "#Summary of hatch cover calculated data\n",
    "print(\"-------------------------------------------Top plating------------------------------------------------------\")\n",
    "print(f\"Material of the top plating:                  Steel grade {Mat_pl} with yield stress {ReH_pl} MPa\")\n",
    "print(f\"Defined net thickness of top plating:         {tp:.2f} mm\")\n",
    "print(\"-------------------------------------------Stiffeners-------------------------------------------------------\")\n",
    "print(f\"Material of the stiffeners:                   Steel grade {Mat_stf} with yield stress {ReH_stf} MPa\")\n",
    "print(f\"Web height of stiffener:                      {hw_stf:.2f} mm\")\n",
    "print(f\"Face plate/flange width of stiffener:         {bf_stf:.2f} mm\")\n",
    "print(f\"Net web thickness of stiffener:               {tw_stf:.2f} mm\")\n",
    "print(f\"Net face plate/flange thickness of stiffener: {tf_stf:.2f} mm\")\n",
    "print(f\"Sectorial moment of inertia:                  {Iw:.2f} mm\\u2076\")\n",
    "print(f\"Polar moment of inertia:                      {Ip:.2f} mm\\u2074\")\n",
    "print(f\"St Venant's moment of inertia:                {It:.2f} mm\\u2074\")\n",
    "print(f\"Area of the stiffener (including plate):      {A:.2f} cm²\")\n",
    "print(f\"Moment of inertia of the stiffener:           {Ia:.2f} cm\\u2074\")\n",
    "print(f\"Section Modulus of the stiffener:             {wa:.2f} cm³\")\n",
    "print(\"---------------------------------------------PSM properties-------------------------------------------------\")\n",
    "print(f\"Material of the PSM:                          Steel grade {Mat_psm} with yield stress {ReH_psm} MPa\")\n",
    "print(f\"Defined breadth of PSM face plate:            {bf:.2f} mm\")\n",
    "print(f\"Defined net thickness of PSM face plate:      {tw:.2f} mm\")\n",
    "print(f\"Defined net thickness of PSM web:             {tw_psm:.2f} mm\")\n",
    "print(\"----------------------------------------Hatch cover mass-----------------------------------------------------\")\n",
    "if M_t < W_max/1000:\n",
    "    print(f\"Total gross mass of the hatch cover:          {M_t:.2f} t\")\n",
    "else:\n",
    "    print(f\"Total gross mass of the hatch cover shall be reduced\")"
   ]
  },
  {
   "cell_type": "markdown",
   "id": "428afc1f-869c-489e-b009-4507ce14ccc5",
   "metadata": {},
   "source": [
    "# Finite Element Modeling\n",
    "<div style=\"text-align: justify\"> Following LR's procedures and recommendations the hatch cover was modeled. In order to save computational efforts only half of the structure was modeled and boundary conditions were imposed to represent the real physics of the problem. On the next figure the final model with boundary conditions and loads is presented. </div>\n",
    "\n",
    "```{figure} /images/FEM_model.jpg\n",
    "---\n",
    "name: FEM_model-fig\n",
    "scale: 50\n",
    "---\n",
    "```\n",
    "```{figure} /images/FEM_model_2.jpg\n",
    "---\n",
    "name: FEM_model_2-fig\n",
    "scale: 45\n",
    "---\n",
    "FEM model used on simulation\n",
    "```"
   ]
  },
  {
   "cell_type": "markdown",
   "id": "775bbeb3-8b8a-4556-8900-82c6986395f1",
   "metadata": {},
   "source": [
    "# FEM results\n",
    "<div style=\"text-align: justify\"> This section shows the post-processing images and FEM results used to check the buckling criteria. The following measures were checked. \n",
    "<ol>\n",
    "    <li>Total deflection of the hatch cover</li>\n",
    "    <li>Compressive stress in top plating parallel to stiffeners</li>\n",
    "    <li>Compressive stress in top plating perpendicular to stiffeners</li>\n",
    "    <li>Compressive stress in stiffeners</li>\n",
    "    <li>Shear stress in PSM web panels</li>\n",
    "    </ol>\n",
    "</div>"
   ]
  },
  {
   "cell_type": "markdown",
   "id": "004e2f68-717d-451a-a5ed-634126f48ca2",
   "metadata": {},
   "source": [
    "```{figure} /images/Total_deformation.jpg\n",
    "---\n",
    "name: deflection-fig\n",
    "---\n",
    "Deflection of the hatch cover\n",
    "```\n",
    "\n",
    "```{figure} /images/Compressive_stress_in_top_plating_parallel_to_stiffeners.jpeg\n",
    "---\n",
    "name: stress_in_top_plating_parallel-fig\n",
    "---\n",
    "Compressive stress in top plating parallel to stiffeners\n",
    "```\n",
    "\n",
    "```{figure} /images/Compressive_stress_in_top_plating_perpendicular_to_stiffeners.jpeg\n",
    "---\n",
    "name: stress_in_top_plating_perpendicular-fig\n",
    "---\n",
    "Compressive stress in top plating perpendicular to stiffeners\n",
    "```\n",
    "\n",
    "```{figure} /images/Compressive_stress_in_stiffeners.png\n",
    "---\n",
    "name: stress_in_stiffeners-fig\n",
    "---\n",
    "Compressive stress in stiffeners\n",
    "```\n",
    "\n",
    "```{figure} /images/Shear_streess_on_PSM_web_panels.jpg\n",
    "---\n",
    "name: shear_stress_in_PSM-fig\n",
    "---\n",
    "Shear stress in PSM web panels\n",
    "```"
   ]
  },
  {
   "cell_type": "code",
   "execution_count": 9,
   "id": "89b49fd6-ed2c-4cc2-af9d-e509d071fde1",
   "metadata": {
    "tags": [
     "hide-input"
    ]
   },
   "outputs": [
    {
     "name": "stdout",
     "output_type": "stream",
     "text": [
      "Stress (parallel to the stiffeners) in the hatch cover plating from FEA:  103.83 MPa\n",
      "Stress (perpendicular to stiffeners) in the hatch cover plating from FEA: 108.97 MPa\n",
      "Stress in the face plate of the stiffeners from FEA:                      128.93 MPa\n",
      "Shear stress in the web panels of the PSM from FEA:                       87.48 MPa\n",
      "Deflection of the PSM from FEA:                                           63.61 mm\n"
     ]
    }
   ],
   "source": [
    "#Input of the results - Enter the compressive stresses\n",
    "sig_pl_fem_pa  = 103.83 #Stress (parallel to the stiffeners) in the hatch cover plating from FEA [N/mm² (MPa)]\n",
    "sig_pl_fem_pe  = 108.97 #Stress (perpendicular to stiffeners) in the hatch cover plating from FEA [N/mm² (MPa)]\n",
    "sig_stf_fem    = 128.93 #Stress in the face plate of the stiffeners from FEA [N/mm² (MPa)]\n",
    "tal_psm_fem    = 87.476 #Shear stress in the web panels of the PSM from FEA [N/mm² (MPa)]\n",
    "d_fem          = 63.607 #Total deflection of the PSM from FEA [mm]\n",
    "\n",
    "#Summary of FEM results\n",
    "print(f\"Stress (parallel to the stiffeners) in the hatch cover plating from FEA:  {sig_pl_fem_pa:.2f} MPa\")\n",
    "print(f\"Stress (perpendicular to stiffeners) in the hatch cover plating from FEA: {sig_pl_fem_pe:.2f} MPa\")\n",
    "print(f\"Stress in the face plate of the stiffeners from FEA:                      {sig_stf_fem:.2f} MPa\")\n",
    "print(f\"Shear stress in the web panels of the PSM from FEA:                       {tal_psm_fem:.2f} MPa\")\n",
    "print(f\"Deflection of the PSM from FEA:                                           {d_fem:.2f} mm\")"
   ]
  },
  {
   "cell_type": "markdown",
   "id": "4c3a79f9-a91a-469c-8482-d2f2a4ad4351",
   "metadata": {},
   "source": [
    "# Final checks and remarks\n",
    "<div style=\"text-align: justify\"> The stresses were check with the criteria and the hatch cover complies with the rule requirements. The materials were chosen aiming to comply with the rules with the lowest grade possible, however steel AH32 was used to comply with some rules requirements, otherwise, using mild steel, the structure would be heavier than the maximum allowed by the input constraints. </div>"
   ]
  },
  {
   "cell_type": "code",
   "execution_count": 10,
   "id": "610c4031-3064-451a-8c51-fdeb22487d3b",
   "metadata": {
    "tags": [
     "hide-input"
    ]
   },
   "outputs": [
    {
     "name": "stdout",
     "output_type": "stream",
     "text": [
      "Deflection of the hatch cover: 63.61 mm \n",
      "Threshold: 103.60 mm - OK\n",
      "Stress (parallel to stiffeners) in the hatch cover plating: 103.83 MPa \n",
      "Threshold: 110.31 MPa - OK\n",
      "Stress (perpendicular to stiffeners) in the hatch cover plating 108.97 MPa \n",
      "Threshold: 126.27 MPa - OK\n",
      "Stress in stiffeners face plate: 128.93 MPa \n",
      "Threshold: 187.01 MPa - OK\n",
      "Shear stress in the PSM web panels: 87.48 MPa \n",
      "Threshold: 145.38 MPa - OK\n"
     ]
    }
   ],
   "source": [
    "#Maximum deflection\n",
    "d_max = 0.0056*L #Maximum allowable deflection [mm] \n",
    "\n",
    "#------------------------------------------------------------------------------------\n",
    "#Critical buclking stress check: Compressive stresses in the hatch cover plating\n",
    "#Stress induced by the bending of PSM, parallel to the direction of stiffeners: \n",
    "sig_E1 = 3.6*E*(tp/(s*1e3))**2 #Elastic buckling stress [N/mm²]\n",
    "\n",
    "#Critical buckling stress [N/mm²]\n",
    "if sig_E1 > ReH_pl/2:\n",
    "    sig_C1 = ReH_pl*(1-(ReH_pl/(4*sig_E1)))\n",
    "else:\n",
    "    sig_C1 = sig_E1 \n",
    "sig_c_pa = 0.88*sig_C1/S #Compressive stress threshold\n",
    "\n",
    "#Stress induced by the bending of PSM, perpendicular to the direction of stiffeners:\n",
    "sig_E2 = 0.9*m*E*(tp/(s*1e3))**2 #Elastic buckling stress [N/mm²]\n",
    "#Critical buckling stress [N/mm²]\n",
    "if sig_E2 > ReH_pl/2:\n",
    "    sig_C2 = ReH_pl*(1-(ReH_pl/(4*sig_E2)))\n",
    "else:\n",
    "    sig_C2 = sig_E2 \n",
    "sig_c_pe = 0.88*sig_C2/S #Compressive stress threshold\n",
    "\n",
    "#------------------------------------------------------------------------------------------------\n",
    "\n",
    "#Critical buclking stress check: Compressive stresses in the face plate of the stiffeners\n",
    "#Stress induced by the bending of PSM:\n",
    "\n",
    "sig_E3   = 1e-3*E*Ia/(A*l**2) \n",
    "etap     = sig_stf_fem/sig_E1\n",
    "if 1-etap < 0:\n",
    "    kp = 0.1\n",
    "else: \n",
    "    kp = 1-etap\n",
    "C        = ((kp*E*tp**3)*1e-3 /\n",
    "            (3*s*(1+(1.33*kp*hw_stf*tp**3) /\n",
    "                  (1000*s*tw_stf**3)))) #Spring stiffness exerted by the top plating\n",
    "K        = (C*l**4)*1e6/((np.pi**4)*E*Iw)\n",
    "\n",
    "#Calculating the number of half waves\n",
    "if K > 0 and K < 4:\n",
    "    m_w = 1\n",
    "elif K < 36: \n",
    "    m_w = 2\n",
    "elif K < 144:\n",
    "    m_w = 3\n",
    "else: \n",
    "    while K >= (m_w**2)*(m_w+1)**2:\n",
    "        m_w += 1\n",
    "\n",
    "sig_E4   = ((np.pi**2)*E*Iw/(1e4*Ip*l**2))*(m_w**2+K/m_w**2)+0.385*E*It/Ip\n",
    "\n",
    "sig_ES   = min(sig_E3, sig_E4) #Elastic buckling stress [N/mm²]\n",
    "#Critical buckling stress [N/mm²]: \n",
    "if sig_ES <= ReH_stf/2: \n",
    "    sig_CS = sig_ES \n",
    "else: \n",
    "    sig_CS = ReH_stf*(1-ReH_stf/(4*sig_ES))\n",
    "\n",
    "sig_c_stf = 0.88*sig_CS/S #Compressive stress threshold\n",
    "\n",
    "#-------------------------------------------------------------------------------------\n",
    "\n",
    "#Critical shear buclking stress check: Shear stresses in the web panels of the PSM:\n",
    "a  = L*1e-3  #Greater dimension of web panel of PSM [m] \n",
    "d  = hw*1e-3 #Smaller dimension of web panel of PSM [m] \n",
    "kt = 5.35+4*(a/d)**2\n",
    "\n",
    "tal_E = 0.9*kt*E*(tw/(1000*d))**2 \n",
    "if tal_E <= ReH_psm/(2*np.sqrt(3)):\n",
    "    tal_C = tal_E\n",
    "else: \n",
    "    tal_C = (ReH_psm/np.sqrt(3))*(1-ReH_psm/(4*np.sqrt(3)*tal_E))\n",
    "    \n",
    "tal_psm = 0.88*tal_C/S #Sheer stress threshold\n",
    "\n",
    "#------------------------------------------------------------------------------------------------\n",
    "\n",
    "#Summary of the results and checks\n",
    "if d_fem > d_max:\n",
    "    print(f\"Deflection of the hatch cover: {d_fem:.2f} mm \\nThreshold: {d_max:.2f} mm - NOK\")\n",
    "else:\n",
    "    print(f\"Deflection of the hatch cover: {d_fem:.2f} mm \\nThreshold: {d_max:.2f} mm - OK\")\n",
    "    \n",
    "if sig_pl_fem_pa > sig_c_pa:\n",
    "    print(f\"Stress (parallel to stiffeners) in the hatch cover plating: {sig_pl_fem_pa:.2f} MPa \\nThreshold: {sig_c_pa:.2f} MPa - NOK\")\n",
    "else:\n",
    "    print(f\"Stress (parallel to stiffeners) in the hatch cover plating: {sig_pl_fem_pa:.2f} MPa \\nThreshold: {sig_c_pa:.2f} MPa - OK\")\n",
    "        \n",
    "if sig_pl_fem_pe > sig_c_pe:\n",
    "    print(f\"Stress (perpendicular to stiffeners) in the hatch cover plating {sig_pl_fem_pe:.2f} MPa \\nThreshold: {sig_c_pe:.2f} MPa - NOK\")\n",
    "else:\n",
    "    print(f\"Stress (perpendicular to stiffeners) in the hatch cover plating {sig_pl_fem_pe:.2f} MPa \\nThreshold: {sig_c_pe:.2f} MPa - OK\")\n",
    "    \n",
    "if sig_stf_fem > sig_c_stf:\n",
    "    print(f\"Stress in stiffeners face plate: {sig_stf_fem:.2f} MPa \\nThreshold: {sig_c_stf:.2f} MPa - NOK\")\n",
    "else:\n",
    "    print(f\"Stress in stiffeners face plate: {sig_stf_fem:.2f} MPa \\nThreshold: {sig_c_stf:.2f} MPa - OK\")\n",
    "\n",
    "if tal_psm_fem > tal_psm:\n",
    "    print(f\"Shear stress in the PSM web panels: {tal_psm_fem:.2f} MPa \\nThreshold: {tal_psm:.2f} MPa - NOK\")\n",
    "else:\n",
    "    print(f\"Shear stress in the PSM web panels: {tal_psm_fem:.2f} MPa \\nThreshold: {tal_psm:.2f} MPa - OK\")"
   ]
  }
 ],
 "metadata": {
  "kernelspec": {
   "display_name": "Python 3 (ipykernel)",
   "language": "python",
   "name": "python3"
  },
  "language_info": {
   "codemirror_mode": {
    "name": "ipython",
    "version": 3
   },
   "file_extension": ".py",
   "mimetype": "text/x-python",
   "name": "python",
   "nbconvert_exporter": "python",
   "pygments_lexer": "ipython3",
   "version": "3.9.12"
  }
 },
 "nbformat": 4,
 "nbformat_minor": 5
}